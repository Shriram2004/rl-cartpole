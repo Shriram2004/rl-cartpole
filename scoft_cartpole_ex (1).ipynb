{
 "cells": [
  {
   "cell_type": "code",
   "execution_count": 1,
   "id": "faa8c4cb-92fb-40cf-a7bd-43f1320a12c6",
   "metadata": {},
   "outputs": [
    {
     "name": "stdout",
     "output_type": "stream",
     "text": [
      "Requirement already satisfied: gymnasium in c:\\users\\jeeva\\anaconda3\\lib\\site-packages (0.29.1)\n",
      "Requirement already satisfied: farama-notifications>=0.0.1 in c:\\users\\jeeva\\anaconda3\\lib\\site-packages (from gymnasium) (0.0.4)\n",
      "Requirement already satisfied: numpy>=1.21.0 in c:\\users\\jeeva\\anaconda3\\lib\\site-packages (from gymnasium) (1.24.4)\n",
      "Requirement already satisfied: cloudpickle>=1.2.0 in c:\\users\\jeeva\\anaconda3\\lib\\site-packages (from gymnasium) (1.6.0)\n",
      "Requirement already satisfied: importlib-metadata>=4.8.0 in c:\\users\\jeeva\\anaconda3\\lib\\site-packages (from gymnasium) (7.1.0)\n",
      "Requirement already satisfied: typing-extensions>=4.3.0 in c:\\users\\jeeva\\anaconda3\\lib\\site-packages (from gymnasium) (4.8.0)\n",
      "Requirement already satisfied: zipp>=0.5 in c:\\users\\jeeva\\anaconda3\\lib\\site-packages (from importlib-metadata>=4.8.0->gymnasium) (3.4.1)\n",
      "Requirement already satisfied: gymnasium[box2d] in c:\\users\\jeeva\\anaconda3\\lib\\site-packages (0.29.1)\n",
      "Requirement already satisfied: numpy>=1.21.0 in c:\\users\\jeeva\\anaconda3\\lib\\site-packages (from gymnasium[box2d]) (1.24.4)\n",
      "Requirement already satisfied: cloudpickle>=1.2.0 in c:\\users\\jeeva\\anaconda3\\lib\\site-packages (from gymnasium[box2d]) (1.6.0)\n",
      "Requirement already satisfied: typing-extensions>=4.3.0 in c:\\users\\jeeva\\anaconda3\\lib\\site-packages (from gymnasium[box2d]) (4.8.0)\n",
      "Requirement already satisfied: importlib-metadata>=4.8.0 in c:\\users\\jeeva\\anaconda3\\lib\\site-packages (from gymnasium[box2d]) (7.1.0)\n",
      "Requirement already satisfied: farama-notifications>=0.0.1 in c:\\users\\jeeva\\anaconda3\\lib\\site-packages (from gymnasium[box2d]) (0.0.4)\n",
      "Requirement already satisfied: box2d-py==2.3.5 in c:\\users\\jeeva\\anaconda3\\lib\\site-packages (from gymnasium[box2d]) (2.3.5)\n",
      "Requirement already satisfied: swig==4.* in c:\\users\\jeeva\\anaconda3\\lib\\site-packages (from gymnasium[box2d]) (4.2.1)\n",
      "Requirement already satisfied: pygame>=2.1.3 in c:\\users\\jeeva\\anaconda3\\lib\\site-packages (from gymnasium[box2d]) (2.5.2)\n",
      "Requirement already satisfied: zipp>=0.5 in c:\\users\\jeeva\\anaconda3\\lib\\site-packages (from importlib-metadata>=4.8.0->gymnasium[box2d]) (3.4.1)\n",
      "Requirement already satisfied: jupyterlab in c:\\users\\jeeva\\anaconda3\\lib\\site-packages (3.0.14)\n",
      "Requirement already satisfied: jupyter-core in c:\\users\\jeeva\\anaconda3\\lib\\site-packages (from jupyterlab) (4.7.1)\n",
      "Requirement already satisfied: jupyter-server~=1.4 in c:\\users\\jeeva\\anaconda3\\lib\\site-packages (from jupyterlab) (1.4.1)\n",
      "Requirement already satisfied: tornado>=6.1.0 in c:\\users\\jeeva\\anaconda3\\lib\\site-packages (from jupyterlab) (6.1)\n",
      "Requirement already satisfied: jinja2>=2.10 in c:\\users\\jeeva\\anaconda3\\lib\\site-packages (from jupyterlab) (2.11.3)\n",
      "Requirement already satisfied: jupyterlab-server~=2.3 in c:\\users\\jeeva\\anaconda3\\lib\\site-packages (from jupyterlab) (2.4.0)\n",
      "Requirement already satisfied: jupyter-packaging~=0.7 in c:\\users\\jeeva\\anaconda3\\lib\\site-packages (from jupyterlab) (0.7.12)\n",
      "Requirement already satisfied: nbclassic~=0.2 in c:\\users\\jeeva\\anaconda3\\lib\\site-packages (from jupyterlab) (0.2.6)\n",
      "Requirement already satisfied: packaging in c:\\users\\jeeva\\anaconda3\\lib\\site-packages (from jupyterlab) (20.9)\n",
      "Requirement already satisfied: ipython in c:\\users\\jeeva\\anaconda3\\lib\\site-packages (from jupyterlab) (7.22.0)\n",
      "Requirement already satisfied: MarkupSafe>=0.23 in c:\\users\\jeeva\\anaconda3\\lib\\site-packages (from jinja2>=2.10->jupyterlab) (1.1.1)\n",
      "Requirement already satisfied: ipython-genutils in c:\\users\\jeeva\\anaconda3\\lib\\site-packages (from jupyter-server~=1.4->jupyterlab) (0.2.0)\n",
      "Requirement already satisfied: prometheus-client in c:\\users\\jeeva\\anaconda3\\lib\\site-packages (from jupyter-server~=1.4->jupyterlab) (0.10.1)\n",
      "Requirement already satisfied: traitlets>=4.2.1 in c:\\users\\jeeva\\anaconda3\\lib\\site-packages (from jupyter-server~=1.4->jupyterlab) (5.0.5)\n",
      "Requirement already satisfied: nbformat in c:\\users\\jeeva\\anaconda3\\lib\\site-packages (from jupyter-server~=1.4->jupyterlab) (5.1.3)\n",
      "Requirement already satisfied: pyzmq>=17 in c:\\users\\jeeva\\anaconda3\\lib\\site-packages (from jupyter-server~=1.4->jupyterlab) (20.0.0)\n",
      "Requirement already satisfied: anyio>=2.0.2 in c:\\users\\jeeva\\anaconda3\\lib\\site-packages (from jupyter-server~=1.4->jupyterlab) (2.2.0)\n",
      "Requirement already satisfied: Send2Trash in c:\\users\\jeeva\\anaconda3\\lib\\site-packages (from jupyter-server~=1.4->jupyterlab) (1.5.0)\n",
      "Requirement already satisfied: terminado>=0.8.3 in c:\\users\\jeeva\\anaconda3\\lib\\site-packages (from jupyter-server~=1.4->jupyterlab) (0.9.4)\n",
      "Requirement already satisfied: nbconvert in c:\\users\\jeeva\\anaconda3\\lib\\site-packages (from jupyter-server~=1.4->jupyterlab) (6.0.7)\n",
      "Requirement already satisfied: jupyter-client>=6.1.1 in c:\\users\\jeeva\\anaconda3\\lib\\site-packages (from jupyter-server~=1.4->jupyterlab) (6.1.12)\n",
      "Requirement already satisfied: pywin32>=1.0 in c:\\users\\jeeva\\anaconda3\\lib\\site-packages (from jupyter-server~=1.4->jupyterlab) (227)\n",
      "Requirement already satisfied: sniffio>=1.1 in c:\\users\\jeeva\\anaconda3\\lib\\site-packages (from anyio>=2.0.2->jupyter-server~=1.4->jupyterlab) (1.2.0)\n",
      "Requirement already satisfied: idna>=2.8 in c:\\users\\jeeva\\anaconda3\\lib\\site-packages (from anyio>=2.0.2->jupyter-server~=1.4->jupyterlab) (2.10)\n",
      "Requirement already satisfied: python-dateutil>=2.1 in c:\\users\\jeeva\\anaconda3\\lib\\site-packages (from jupyter-client>=6.1.1->jupyter-server~=1.4->jupyterlab) (2.8.1)\n",
      "Requirement already satisfied: babel in c:\\users\\jeeva\\anaconda3\\lib\\site-packages (from jupyterlab-server~=2.3->jupyterlab) (2.9.0)\n",
      "Requirement already satisfied: jsonschema>=3.0.1 in c:\\users\\jeeva\\anaconda3\\lib\\site-packages (from jupyterlab-server~=2.3->jupyterlab) (3.2.0)\n",
      "Requirement already satisfied: json5 in c:\\users\\jeeva\\anaconda3\\lib\\site-packages (from jupyterlab-server~=2.3->jupyterlab) (0.9.5)\n",
      "Requirement already satisfied: requests in c:\\users\\jeeva\\anaconda3\\lib\\site-packages (from jupyterlab-server~=2.3->jupyterlab) (2.31.0)\n",
      "Requirement already satisfied: attrs>=17.4.0 in c:\\users\\jeeva\\anaconda3\\lib\\site-packages (from jsonschema>=3.0.1->jupyterlab-server~=2.3->jupyterlab) (20.3.0)\n",
      "Requirement already satisfied: pyrsistent>=0.14.0 in c:\\users\\jeeva\\anaconda3\\lib\\site-packages (from jsonschema>=3.0.1->jupyterlab-server~=2.3->jupyterlab) (0.17.3)\n",
      "Requirement already satisfied: setuptools in c:\\users\\jeeva\\anaconda3\\lib\\site-packages (from jsonschema>=3.0.1->jupyterlab-server~=2.3->jupyterlab) (52.0.0.post20210125)\n",
      "Requirement already satisfied: six>=1.11.0 in c:\\users\\jeeva\\anaconda3\\lib\\site-packages (from jsonschema>=3.0.1->jupyterlab-server~=2.3->jupyterlab) (1.15.0)\n",
      "Requirement already satisfied: notebook<7 in c:\\users\\jeeva\\anaconda3\\lib\\site-packages (from nbclassic~=0.2->jupyterlab) (6.3.0)\n",
      "Requirement already satisfied: ipykernel in c:\\users\\jeeva\\anaconda3\\lib\\site-packages (from notebook<7->nbclassic~=0.2->jupyterlab) (5.3.4)\n",
      "Requirement already satisfied: argon2-cffi in c:\\users\\jeeva\\anaconda3\\lib\\site-packages (from notebook<7->nbclassic~=0.2->jupyterlab) (20.1.0)\n",
      "Requirement already satisfied: pywinpty>=0.5 in c:\\users\\jeeva\\anaconda3\\lib\\site-packages (from terminado>=0.8.3->jupyter-server~=1.4->jupyterlab) (0.5.7)\n",
      "Requirement already satisfied: cffi>=1.0.0 in c:\\users\\jeeva\\anaconda3\\lib\\site-packages (from argon2-cffi->notebook<7->nbclassic~=0.2->jupyterlab) (1.14.5)\n",
      "Requirement already satisfied: pycparser in c:\\users\\jeeva\\anaconda3\\lib\\site-packages (from cffi>=1.0.0->argon2-cffi->notebook<7->nbclassic~=0.2->jupyterlab) (2.20)\n",
      "Requirement already satisfied: pytz>=2015.7 in c:\\users\\jeeva\\anaconda3\\lib\\site-packages (from babel->jupyterlab-server~=2.3->jupyterlab) (2021.1)\n",
      "Requirement already satisfied: prompt-toolkit!=3.0.0,!=3.0.1,<3.1.0,>=2.0.0 in c:\\users\\jeeva\\anaconda3\\lib\\site-packages (from ipython->jupyterlab) (3.0.17)\n",
      "Requirement already satisfied: backcall in c:\\users\\jeeva\\anaconda3\\lib\\site-packages (from ipython->jupyterlab) (0.2.0)\n",
      "Requirement already satisfied: colorama in c:\\users\\jeeva\\anaconda3\\lib\\site-packages (from ipython->jupyterlab) (0.4.4)\n",
      "Requirement already satisfied: pygments in c:\\users\\jeeva\\anaconda3\\lib\\site-packages (from ipython->jupyterlab) (2.8.1)\n",
      "Requirement already satisfied: decorator in c:\\users\\jeeva\\anaconda3\\lib\\site-packages (from ipython->jupyterlab) (5.0.6)\n",
      "Requirement already satisfied: pickleshare in c:\\users\\jeeva\\anaconda3\\lib\\site-packages (from ipython->jupyterlab) (0.7.5)\n",
      "Requirement already satisfied: jedi>=0.16 in c:\\users\\jeeva\\anaconda3\\lib\\site-packages (from ipython->jupyterlab) (0.17.2)\n",
      "Requirement already satisfied: parso<0.8.0,>=0.7.0 in c:\\users\\jeeva\\anaconda3\\lib\\site-packages (from jedi>=0.16->ipython->jupyterlab) (0.7.0)\n",
      "Requirement already satisfied: wcwidth in c:\\users\\jeeva\\anaconda3\\lib\\site-packages (from prompt-toolkit!=3.0.0,!=3.0.1,<3.1.0,>=2.0.0->ipython->jupyterlab) (0.2.5)\n",
      "Requirement already satisfied: jupyterlab-pygments in c:\\users\\jeeva\\anaconda3\\lib\\site-packages (from nbconvert->jupyter-server~=1.4->jupyterlab) (0.1.2)\n",
      "Requirement already satisfied: pandocfilters>=1.4.1 in c:\\users\\jeeva\\anaconda3\\lib\\site-packages (from nbconvert->jupyter-server~=1.4->jupyterlab) (1.4.3)\n",
      "Requirement already satisfied: nbclient<0.6.0,>=0.5.0 in c:\\users\\jeeva\\anaconda3\\lib\\site-packages (from nbconvert->jupyter-server~=1.4->jupyterlab) (0.5.3)\n",
      "Requirement already satisfied: bleach in c:\\users\\jeeva\\anaconda3\\lib\\site-packages (from nbconvert->jupyter-server~=1.4->jupyterlab) (3.3.0)\n",
      "Requirement already satisfied: defusedxml in c:\\users\\jeeva\\anaconda3\\lib\\site-packages (from nbconvert->jupyter-server~=1.4->jupyterlab) (0.7.1)\n",
      "Requirement already satisfied: testpath in c:\\users\\jeeva\\anaconda3\\lib\\site-packages (from nbconvert->jupyter-server~=1.4->jupyterlab) (0.4.4)\n",
      "Requirement already satisfied: mistune<2,>=0.8.1 in c:\\users\\jeeva\\anaconda3\\lib\\site-packages (from nbconvert->jupyter-server~=1.4->jupyterlab) (0.8.4)\n",
      "Requirement already satisfied: entrypoints>=0.2.2 in c:\\users\\jeeva\\anaconda3\\lib\\site-packages (from nbconvert->jupyter-server~=1.4->jupyterlab) (0.3)\n",
      "Requirement already satisfied: async-generator in c:\\users\\jeeva\\anaconda3\\lib\\site-packages (from nbclient<0.6.0,>=0.5.0->nbconvert->jupyter-server~=1.4->jupyterlab) (1.10)\n",
      "Requirement already satisfied: nest-asyncio in c:\\users\\jeeva\\anaconda3\\lib\\site-packages (from nbclient<0.6.0,>=0.5.0->nbconvert->jupyter-server~=1.4->jupyterlab) (1.5.1)\n",
      "Requirement already satisfied: webencodings in c:\\users\\jeeva\\anaconda3\\lib\\site-packages (from bleach->nbconvert->jupyter-server~=1.4->jupyterlab) (0.5.1)\n",
      "Requirement already satisfied: pyparsing>=2.0.2 in c:\\users\\jeeva\\anaconda3\\lib\\site-packages (from packaging->jupyterlab) (2.4.7)\n",
      "Requirement already satisfied: urllib3<3,>=1.21.1 in c:\\users\\jeeva\\anaconda3\\lib\\site-packages (from requests->jupyterlab-server~=2.3->jupyterlab) (1.26.4)\n",
      "Requirement already satisfied: certifi>=2017.4.17 in c:\\users\\jeeva\\anaconda3\\lib\\site-packages (from requests->jupyterlab-server~=2.3->jupyterlab) (2020.12.5)\n",
      "Requirement already satisfied: charset-normalizer<4,>=2 in c:\\users\\jeeva\\anaconda3\\lib\\site-packages (from requests->jupyterlab-server~=2.3->jupyterlab) (2.0.4)\n"
     ]
    },
    {
     "name": "stdout",
     "output_type": "stream",
     "text": [
      "Requirement already satisfied: tqdm in c:\\users\\jeeva\\anaconda3\\lib\\site-packages (4.59.0)\n"
     ]
    }
   ],
   "source": [
    "!pip install gymnasium\n",
    "!pip install gymnasium[box2d]\n",
    "!pip install jupyterlab\n",
    "!pip install tqdm"
   ]
  },
  {
   "cell_type": "code",
   "execution_count": 2,
   "id": "8b329e1f-e757-4b82-905e-9ee07655aa38",
   "metadata": {},
   "outputs": [],
   "source": [
    "import gymnasium as gym\n",
    "import numpy as np\n",
    "from itertools import count\n",
    "from tqdm import tqdm\n",
    "import time\n",
    "import matplotlib.pyplot as plt\n",
    "# Developed by E.T Jaba Jasphin\n",
    "# Saveetha Engineering College"
   ]
  },
  {
   "cell_type": "code",
   "execution_count": 3,
   "id": "14dd2dd5-64c0-4c99-b11d-0cc358189af1",
   "metadata": {},
   "outputs": [],
   "source": [
    "g_bins = 10\n",
    "Q_track = 0\n",
    "Q = 0"
   ]
  },
  {
   "cell_type": "code",
   "execution_count": 4,
   "id": "2f2058fd-529d-4a8e-8355-e76b621db755",
   "metadata": {},
   "outputs": [],
   "source": [
    "def create_bins(n_bins=g_bins, n_dim=4):\n",
    "\n",
    "    bins = [\n",
    "        np.linspace(-4.8, 4.8, n_bins),\n",
    "        np.linspace(-4, 4, n_bins),\n",
    "        np.linspace(-0.418, 0.418, n_bins),\n",
    "        np.linspace(-4, 4, n_bins)\n",
    "    ]\n",
    "\n",
    "    return bins"
   ]
  },
  {
   "cell_type": "code",
   "execution_count": 5,
   "id": "c564bb50-5af3-457f-b419-a1c6e4c31422",
   "metadata": {},
   "outputs": [],
   "source": [
    "def discretize_state(observation, bins):\n",
    "\n",
    "    binned_state = []\n",
    "\n",
    "    for i in range(len(observation)):\n",
    "        d = np.digitize(observation[i], bins[i])\n",
    "        binned_state.append( d - 1)\n",
    "\n",
    "    return tuple(binned_state)"
   ]
  },
  {
   "cell_type": "code",
   "execution_count": 6,
   "id": "98943888-b5db-48d8-8a54-0c1a2680d9db",
   "metadata": {},
   "outputs": [],
   "source": [
    "def decay_schedule(\n",
    "    init_value, min_value, decay_ratio,\n",
    "    max_steps, log_start = -2, log_base=10):\n",
    "    decay_steps = int(max_steps*decay_ratio)\n",
    "    rem_steps = max_steps - decay_steps\n",
    "    values = np.logspace(\n",
    "      log_start, 0, decay_steps,\n",
    "      base = log_base, endpoint = True)[::-1]\n",
    "    values = (values -values.min())/(values.max() - values.min())\n",
    "    values = (init_value - min_value)*values +min_value\n",
    "    values = np.pad(values, (0, rem_steps), 'edge')\n",
    "\n",
    "    return values"
   ]
  },
  {
   "cell_type": "code",
   "execution_count": 7,
   "id": "ce5901ea-d8c5-43ec-91b6-32b4ac9af8a2",
   "metadata": {},
   "outputs": [],
   "source": [
    "def generate_trajectory(\n",
    "    select_action, Q, epsilon,\n",
    "    env, max_steps=200):\n",
    "    done, trajectory = False, []\n",
    "    bins = create_bins(g_bins)\n",
    "    \n",
    "    observation,_ = env.reset()\n",
    "    state = discretize_state(observation, bins)\n",
    "    \n",
    "    for t in count():\n",
    "        action = select_action(state, Q, epsilon)\n",
    "        observation, reward, done, _, _ = env.step(action)\n",
    "        next_state = discretize_state(observation, bins)\n",
    "        if not done:                \n",
    "            if t >= max_steps-1:\n",
    "                break\n",
    "            experience = (state, action,\n",
    "                    reward, next_state, done)                            \n",
    "            trajectory.append(experience)                \n",
    "        else:\n",
    "            experience = (state, action,\n",
    "                    -100, next_state, done)\n",
    "            trajectory.append(experience)                \n",
    "            #time.sleep(2)\n",
    "            break\n",
    "        state = next_state\n",
    "\n",
    "    return np.array(trajectory, dtype=object)"
   ]
  },
  {
   "cell_type": "code",
   "execution_count": null,
   "id": "2b42b13f",
   "metadata": {},
   "outputs": [],
   "source": [
    "def mc_control (env,n_bins=g_bins, gamma = 1.0,\n",
    "                init_alpha = 0.5,min_alpha = 0.01, alpha_decay_ratio = 0.5,\n",
    "                init_epsilon = 1.0, min_epsilon = 0.1, epsilon_decay_ratio = 0.9,\n",
    "                n_episodes = 3000, max_steps = 200, first_visit = True, init_Q=None):\n",
    "    \n",
    "    nA = env.action_space.n\n",
    "    discounts = np.logspace(0, max_steps,\n",
    "                            num = max_steps, base = gamma,\n",
    "                            endpoint = False)\n",
    "    alphas = decay_schedule(init_alpha, min_alpha,\n",
    "                            0.9999, n_episodes)\n",
    "    epsilons = decay_schedule(init_epsilon, min_epsilon,\n",
    "                            0.99, n_episodes)\n",
    "    pi_track = []\n",
    "    global Q_track\n",
    "    global Q\n",
    "    \n",
    "    \n",
    "    if init_Q is None:\n",
    "        Q = np.zeros([n_bins]*env.observation_space.shape[0] + [env.action_space.n],dtype =np.float64)\n",
    "    else:\n",
    "        Q = init_Q\n",
    "        \n",
    "    n_elements = Q.size\n",
    "    n_nonzero_elements = 0\n",
    "    \n",
    "    Q_track = np.zeros([n_episodes] + [n_bins]*env.observation_space.shape[0] + [env.action_space.n],dtype =np.float64)\n",
    "    select_action = lambda state, Q, epsilon: np.argmax(Q[tuple(state)]) if np.random.random() > epsilon else np.random.randint(len(Q[tuple(state)]))\n",
    "\n",
    "    progress_bar = tqdm(range(n_episodes), leave=False)\n",
    "    steps_balanced_total = 1\n",
    "    mean_steps_balanced = 0\n",
    "    for e in progress_bar:        \n",
    "        trajectory = generate_trajectory(select_action, Q, epsilons[e],\n",
    "                                    env, max_steps)\n",
    "        \n",
    "        steps_balanced_total = steps_balanced_total + len(trajectory)\n",
    "        mean_steps_balanced = 0\n",
    "        \n",
    "        visited = np.zeros([n_bins]*env.observation_space.shape[0] + [env.action_space.n],dtype =np.float64)\n",
    "        for t, (state, action, reward, _, _) in enumerate(trajectory):\n",
    "            #if visited[tuple(state)][action] and first_visit:\n",
    "            #    continue    \n",
    "            visited[tuple(state)][action] = True\n",
    "            n_steps = len(trajectory[t:])\n",
    "            G = np.sum(discounts[:n_steps]*trajectory[t:, 2])\n",
    "            Q[tuple(state)][action] = Q[tuple(state)][action]+alphas[e]*(G - Q[tuple(state)][action])\n",
    "        Q_track[e] = Q\n",
    "        n_nonzero_elements = np.count_nonzero(Q)\n",
    "        pi_track.append(np.argmax(Q, axis=env.observation_space.shape[0]))\n",
    "        if e != 0:\n",
    "            mean_steps_balanced = steps_balanced_total/e\n",
    "        #progress_bar.set_postfix(episode=e, Epsilon=epsilons[e], Steps=f\"{len(trajectory)}\" ,MeanStepsBalanced=f\"{mean_steps_balanced:.2f}\", NonZeroValues=\"{0}/{1}\".format(n_nonzero_elements,n_elements))\n",
    "        progress_bar.set_postfix(episode=e, Epsilon=epsilons[e], StepsBalanced=f\"{len(trajectory)}\" ,MeanStepsBalanced=f\"{mean_steps_balanced:.2f}\")\n",
    "        \n",
    "    print(\"mean_steps_balanced={0},steps_balanced_total={1}\".format(mean_steps_balanced,steps_balanced_total))\n",
    "    V = np.max(Q, axis=env.observation_space.shape[0])\n",
    "    pi = lambda s:{s:a for s, a in enumerate(np.argmax(Q, axis=env.observation_space.shape[0]))}[s]\n",
    "\n",
    "    return Q, V, pi"
   ]
  },
  {
   "cell_type": "code",
   "execution_count": 47,
   "id": "06e0e0bf-aab1-4e62-ad12-29bccba1708b",
   "metadata": {},
   "outputs": [],
   "source": [
    "def mc_control (env,n_bins=g_bins, gamma = 1.0,\n",
    "                init_alpha = 0.5,min_alpha = 0.01, alpha_decay_ratio = 0.5,\n",
    "                init_epsilon = 1.0, min_epsilon = 0.1, epsilon_decay_ratio = 0.5,\n",
    "                n_episodes = 9000, max_steps = 800, first_visit = True, init_Q=None):\n",
    "    \n",
    "    nA = env.action_space.n\n",
    "    discounts = np.logspace(0, max_steps,\n",
    "                            num = max_steps, base = gamma,\n",
    "                            endpoint = False)\n",
    "    alphas = decay_schedule(init_alpha, min_alpha,\n",
    "                            0.9999, n_episodes)\n",
    "    epsilons = decay_schedule(init_epsilon, min_epsilon,\n",
    "                            0.99, n_episodes)\n",
    "    pi_track = []\n",
    "    global Q_track\n",
    "    global Q\n",
    "    \n",
    "    \n",
    "    if init_Q is None:\n",
    "        Q = np.zeros([n_bins]*env.observation_space.shape[0] + [env.action_space.n],dtype =np.float64)\n",
    "    else:\n",
    "        Q = init_Q\n",
    "        \n",
    "    n_elements = Q.size\n",
    "    n_nonzero_elements = 0\n",
    "    \n",
    "    Q_track = np.zeros([n_episodes] + [n_bins]*env.observation_space.shape[0] + [env.action_space.n],dtype =np.float64)\n",
    "    select_action = lambda state, Q, epsilon: np.argmax(Q[tuple(state)]) if np.random.random() > epsilon else np.random.randint(len(Q[tuple(state)]))\n",
    "\n",
    "    progress_bar = tqdm(range(n_episodes), leave=False)\n",
    "    steps_balanced_total = 1\n",
    "    mean_steps_balanced = 0\n",
    "    for e in progress_bar:        \n",
    "        trajectory = generate_trajectory(select_action, Q, epsilons[e],\n",
    "                                    env, max_steps)\n",
    "        \n",
    "        steps_balanced_total = steps_balanced_total + len(trajectory)\n",
    "        mean_steps_balanced = 0\n",
    "        \n",
    "        visited = np.zeros([n_bins]*env.observation_space.shape[0] + [env.action_space.n],dtype =np.float64)\n",
    "        for t, (state, action, reward, _, _) in enumerate(trajectory):\n",
    "            #if visited[tuple(state)][action] and first_visit:\n",
    "            #    continue    \n",
    "            visited[tuple(state)][action] = True\n",
    "            n_steps = len(trajectory[t:])\n",
    "            G = np.sum(discounts[:n_steps]*trajectory[t:, 2])\n",
    "            Q[tuple(state)][action] = Q[tuple(state)][action]+alphas[e]*(G - Q[tuple(state)][action])\n",
    "        Q_track[e] = Q\n",
    "        n_nonzero_elements = np.count_nonzero(Q)\n",
    "        pi_track.append(np.argmax(Q, axis=env.observation_space.shape[0]))\n",
    "        if e != 0:\n",
    "            mean_steps_balanced = steps_balanced_total/e\n",
    "        #progress_bar.set_postfix(episode=e, Epsilon=epsilons[e], Steps=f\"{len(trajectory)}\" ,MeanStepsBalanced=f\"{mean_steps_balanced:.2f}\", NonZeroValues=\"{0}/{1}\".format(n_nonzero_elements,n_elements))\n",
    "        progress_bar.set_postfix(episode=e, Epsilon=epsilons[e], StepsBalanced=f\"{len(trajectory)}\" ,MeanStepsBalanced=f\"{mean_steps_balanced:.2f}\")\n",
    "        \n",
    "    print(\"mean_steps_balanced={0},steps_balanced_total={1}\".format(mean_steps_balanced,steps_balanced_total))\n",
    "    V = np.max(Q, axis=env.observation_space.shape[0])\n",
    "    pi = lambda s:{s:a for s, a in enumerate(np.argmax(Q, axis=env.observation_space.shape[0]))}[s]\n",
    "\n",
    "    return Q, V, pi"
   ]
  },
  {
   "cell_type": "code",
   "execution_count": 48,
   "id": "408bd6d9-f7a8-4136-b16c-9dc16f549ff3",
   "metadata": {},
   "outputs": [],
   "source": [
    "env = gym.make(\"CartPole-v1\", render_mode=\"human\")\n",
    "observation, info = env.reset(seed=42)"
   ]
  },
  {
   "cell_type": "code",
   "execution_count": 49,
   "id": "ac09a817-9fcb-40a1-8305-2cc59097b9d9",
   "metadata": {},
   "outputs": [],
   "source": [
    "#To save the action value function\n",
    "np.save(\"state_action_values.npy\", Q)"
   ]
  },
  {
   "cell_type": "code",
   "execution_count": 50,
   "id": "47366ece-37b2-4d9f-9192-7bc48d2bb514",
   "metadata": {},
   "outputs": [],
   "source": [
    "#To load the action value function\n",
    "Q = np.load(\"state_action_values.npy\")"
   ]
  },
  {
   "cell_type": "code",
   "execution_count": 51,
   "id": "8ac5232c-dade-44c4-8a67-0793c6f5580d",
   "metadata": {},
   "outputs": [],
   "source": [
    "observation, info = env.reset(seed=42)"
   ]
  },
  {
   "cell_type": "code",
   "execution_count": 52,
   "id": "85228217-849a-4bd5-8e60-39ec34fe78f7",
   "metadata": {},
   "outputs": [
    {
     "name": "stdout",
     "output_type": "stream",
     "text": [
      "False\n"
     ]
    }
   ],
   "source": [
    "observation, reward, done, _, _ = env.step(0)\n",
    "print(done)"
   ]
  },
  {
   "cell_type": "code",
   "execution_count": 53,
   "id": "2a921e98-2abf-4d64-913d-75c66e9131d4",
   "metadata": {},
   "outputs": [
    {
     "data": {
      "text/plain": [
       "2"
      ]
     },
     "execution_count": 53,
     "metadata": {},
     "output_type": "execute_result"
    }
   ],
   "source": [
    "env.action_space.n"
   ]
  },
  {
   "cell_type": "code",
   "execution_count": 54,
   "id": "81617d8a-4fd8-4ca8-80c0-c213ded3372d",
   "metadata": {},
   "outputs": [
    {
     "name": "stderr",
     "output_type": "stream",
     "text": [
      "                                                                                                                       "
     ]
    },
    {
     "name": "stdout",
     "output_type": "stream",
     "text": [
      "mean_steps_balanced=99.08013355592655,steps_balanced_total=59349\n"
     ]
    },
    {
     "name": "stderr",
     "output_type": "stream",
     "text": [
      "\r"
     ]
    }
   ],
   "source": [
    "# To run the MC control without using the previous Q values\n",
    "optimal_Q, optimal_V, optimal_pi = mc_control (env,n_episodes=600)"
   ]
  },
  {
   "cell_type": "code",
   "execution_count": 55,
   "id": "28702f12-63c8-452d-9de6-c2be14a90026",
   "metadata": {},
   "outputs": [
    {
     "name": "stderr",
     "output_type": "stream",
     "text": [
      "                                                                                                                       \r"
     ]
    },
    {
     "name": "stdout",
     "output_type": "stream",
     "text": [
      "mean_steps_balanced=114.86548318539818,steps_balanced_total=918809\n"
     ]
    }
   ],
   "source": [
    "# To run the MC control using the previous Q values and default parameters\n",
    "optimal_Q, optimal_V, optimal_pi = mc_control (env,n_episodes=8000,\n",
    "                                    init_alpha = 0.5,min_alpha = 0.01, alpha_decay_ratio = 0.5,\n",
    "                                    init_epsilon = 1.0, min_epsilon = 0.1, epsilon_decay_ratio = 0.9,                                               \n",
    "                                    max_steps=800, init_Q=Q)"
   ]
  },
  {
   "cell_type": "code",
   "execution_count": 56,
   "id": "5868c123-fcc7-4e60-83da-b2973d2d148a",
   "metadata": {},
   "outputs": [
    {
     "name": "stderr",
     "output_type": "stream",
     "text": [
      "                                                                                                                       "
     ]
    },
    {
     "name": "stdout",
     "output_type": "stream",
     "text": [
      "mean_steps_balanced=267.3346693386774,steps_balanced_total=133400\n"
     ]
    },
    {
     "name": "stderr",
     "output_type": "stream",
     "text": [
      "\r"
     ]
    }
   ],
   "source": [
    "# To run the MC control using the previous Q values and modified parameters\n",
    "optimal_Q, optimal_V, optimal_pi = mc_control (env,n_episodes=500,\n",
    "                                    init_alpha = 0.01,min_alpha = 0.005, alpha_decay_ratio = 0.5,\n",
    "                                    init_epsilon = 0.1 , min_epsilon = 0.08, epsilon_decay_ratio = 0.9,                                               \n",
    "                                    max_steps=500, init_Q=Q)"
   ]
  },
  {
   "cell_type": "code",
   "execution_count": 57,
   "id": "9bf931b3-0f31-42de-b73b-14e8586d13f1",
   "metadata": {},
   "outputs": [
    {
     "data": {
      "text/plain": [
       "1300"
      ]
     },
     "execution_count": 57,
     "metadata": {},
     "output_type": "execute_result"
    }
   ],
   "source": [
    "np.count_nonzero(Q)"
   ]
  },
  {
   "cell_type": "code",
   "execution_count": 58,
   "id": "8b6c0151-41e2-48ba-a816-18cafd962572",
   "metadata": {},
   "outputs": [
    {
     "data": {
      "text/plain": [
       "20000"
      ]
     },
     "execution_count": 58,
     "metadata": {},
     "output_type": "execute_result"
    }
   ],
   "source": [
    "np.size(Q)"
   ]
  },
  {
   "cell_type": "code",
   "execution_count": 59,
   "id": "f4353c71-5291-4ae0-8961-af559d78da95",
   "metadata": {},
   "outputs": [],
   "source": [
    "ep1 = decay_schedule(1, 0.1, 0.99, 50)"
   ]
  },
  {
   "cell_type": "code",
   "execution_count": 60,
   "id": "65034535-46d0-439e-9a69-ee9ef1471beb",
   "metadata": {},
   "outputs": [],
   "source": [
    "x = np.arange(0,50)"
   ]
  },
  {
   "cell_type": "code",
   "execution_count": 61,
   "id": "5c329587-5052-4cfc-87db-4745c293048a",
   "metadata": {},
   "outputs": [
    {
     "data": {
      "text/plain": [
       "[<matplotlib.lines.Line2D at 0x15aadafe6a0>]"
      ]
     },
     "execution_count": 61,
     "metadata": {},
     "output_type": "execute_result"
    },
    {
     "data": {
      "image/png": "[encoded data removed]",
      "text/plain": [
       "<Figure size 432x288 with 1 Axes>"
      ]
     },
     "metadata": {
      "needs_background": "light"
     },
     "output_type": "display_data"
    }
   ],
   "source": [
    "plt.plot(x,ep1,label='ep1')"
   ]
  },
  {
   "cell_type": "code",
   "execution_count": null,
   "id": "d62e31d6",
   "metadata": {},
   "outputs": [],
   "source": []
  }
 ],
 "metadata": {
  "kernelspec": {
   "display_name": "Python 3",
   "language": "python",
   "name": "python3"
  },
  "language_info": {
   "codemirror_mode": {
    "name": "ipython",
    "version": 3
   },
   "file_extension": ".py",
   "mimetype": "text/x-python",
   "name": "python",
   "nbconvert_exporter": "python",
   "pygments_lexer": "ipython3",
   "version": "3.8.8"
  }
 },
 "nbformat": 4,
 "nbformat_minor": 5
}
